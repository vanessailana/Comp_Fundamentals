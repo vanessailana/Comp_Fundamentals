{
 "cells": [
  {
   "cell_type": "markdown",
   "metadata": {},
   "source": [
    "Product of All Other Elements"
   ]
  },
  {
   "cell_type": "code",
   "execution_count": 33,
   "metadata": {},
   "outputs": [
    {
     "name": "stdout",
     "output_type": "stream",
     "text": [
      "120\n",
      "60\n",
      "40\n",
      "30\n",
      "24\n"
     ]
    }
   ],
   "source": [
    "import pandas as pd \n",
    "\n",
    "stuff=[1,2,3,4,5]\n",
    "\n",
    "#range of array \n",
    "n= len(stuff)\n",
    "sum=0.0\n",
    "#loop through array \n",
    "\n",
    "i=0;\n",
    "\n",
    "#new array \n",
    "prod=[0]*n\n",
    "\n",
    "left=n * [0]\n",
    "right= n *[0]\n",
    "\n",
    "left[0]=1;\n",
    "right[n-1]=1;\n",
    "\n",
    "#left array\n",
    "for i in range(1,n):\n",
    "    left[i]=stuff[i-1]* left[i-1];\n",
    "    \n",
    "#right array \n",
    "for i in range(n-2,-1,-1):\n",
    "     right[i]=stuff[i+1] * right[i+1];\n",
    "    \n",
    "\n",
    "\n",
    "for i in range(n):\n",
    "    stuff[i]=left[i] * right[i];\n",
    "    \n",
    "for i in range(n):\n",
    "    prod[i]=left[i]*right[i]\n",
    "\n",
    "for i in range(n):\n",
    "    print(prod[i])\n",
    "    \n",
    "    \n",
    "#assumwe we have an array \n",
    "\n",
    "#sllocate memory for the array \n",
    "#stuff[1,2,3,4,5]\n",
    "#want 120,60,40,30,24\n",
    "#allocate memory foe array \n",
    "#left start at first element \n",
    "#  right is the number of elements -1\n",
    "#we then iterate through left array  with all elements i-1 and array its self\n",
    "#we do the same with the right \n",
    "\n",
    "\n"
   ]
  },
  {
   "cell_type": "markdown",
   "metadata": {},
   "source": [
    "Calculate the Max SubArray Sum"
   ]
  },
  {
   "cell_type": "code",
   "execution_count": null,
   "metadata": {},
   "outputs": [],
   "source": []
  }
 ],
 "metadata": {
  "kernelspec": {
   "display_name": "Python 3",
   "language": "python",
   "name": "python3"
  },
  "language_info": {
   "codemirror_mode": {
    "name": "ipython",
    "version": 3
   },
   "file_extension": ".py",
   "mimetype": "text/x-python",
   "name": "python",
   "nbconvert_exporter": "python",
   "pygments_lexer": "ipython3",
   "version": "3.7.2"
  }
 },
 "nbformat": 4,
 "nbformat_minor": 2
}
